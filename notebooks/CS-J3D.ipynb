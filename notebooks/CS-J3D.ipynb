{
 "cells": [
  {
   "cell_type": "code",
   "execution_count": 18,
   "metadata": {},
   "outputs": [],
   "source": [
    "import numpy as np\n",
    "from numpy.linalg import eigvals\n",
    "import matplotlib\n",
    "import matplotlib.pyplot as plt\n",
    "matplotlib.use('Qt5Agg')\n",
    "%matplotlib qt5\n",
    "#\n",
    "#  extend path by location of the dvr package\n",
    "#\n",
    "import sys\n",
    "sys.path.append('/home/thomas/Python')\n",
    "import dvr"
   ]
  },
  {
   "cell_type": "code",
   "execution_count": 2,
   "metadata": {},
   "outputs": [],
   "source": [
    "amu_to_au=1822.888486192\n",
    "au2cm=219474.63068\n",
    "au2eV=27.211386027\n",
    "Angs2Bohr=1.8897259886"
   ]
  },
  {
   "cell_type": "code",
   "execution_count": 3,
   "metadata": {},
   "outputs": [],
   "source": [
    "#\n",
    "#  default 1D potential has a resonance just below 7 eV\n",
    "#\n",
    "def Jolanta_1D(x, a=0.2, b=0.0, c=0.14):\n",
    "    return (a*x*x-b)*np.exp(-c*x*x)\n",
    "\n",
    "#\n",
    "#  default 3D potential has a resonance at 1.75 eV - 0.2i eV\n",
    "#\n",
    "def Jolanta_3D(r, a=0.1, b=1.2, c=0.1, l=1):\n",
    "    return (a*r**2-b)*np.exp(-c*r**2) + 0.5*l*(l+1)/r**2"
   ]
  },
  {
   "cell_type": "code",
   "execution_count": 30,
   "metadata": {},
   "outputs": [
    {
     "name": "stdout",
     "output_type": "stream",
     "text": [
      "nGrid = 300\n",
      "  1    0.01170180 au =      0.31842 eV\n",
      "  2    0.03547063 au =      0.96521 eV\n",
      "  3    0.06136177 au =      1.66974 eV\n",
      "  4    0.08324826 au =      2.26530 eV\n",
      "  5    0.13292595 au =      3.61710 eV\n",
      "  6    0.19792627 au =      5.38585 eV\n"
     ]
    }
   ],
   "source": [
    "#\n",
    "#  compute DVR of T and V\n",
    "#  then show the density of states\n",
    "#  in a potential + energy-levels plot\n",
    "#\n",
    "rmin=0\n",
    "rmax=30      # grid from 0 to rmax\n",
    "thresh = 5   # maximum energy for state in the plot in eV\n",
    "ppB = 10     # grid points per Bohr\n",
    "\n",
    "nGrid=int((rmax-rmin)*ppB)\n",
    "print(\"nGrid = %d\" % nGrid)\n",
    "rs = dvr.DVRGrid(rmin, rmax, nGrid)\n",
    "Vs = Jolanta_3D(rs, a=0.1, b=1.2, c=0.1, l=1)\n",
    "Ts = dvr.KineticEnergy(1, rmin, rmax, nGrid)\n",
    "[energy, wf] = dvr.DVRDiag2(nGrid, Ts, Vs)\n",
    "\n",
    "n_ene=0\n",
    "for i in range(nGrid):\n",
    "    print(\"%3d  %12.8f au = %12.5f eV\" % (i+1, energy[i], energy[i]*au2eV))\n",
    "    n_ene += 1\n",
    "    if energy[i]*au2eV > thresh:\n",
    "        break\n",
    "\n",
    "# \"DVR normalization\", sum(wf[:,0]**2)\n",
    "# this is correct for plotting\n",
    "\n",
    "c=[\"orange\", \"blue\"]\n",
    "#h=float(xmax) / (nGrid+1.0)\n",
    "scale=150\n",
    "\n",
    "plt.plot(rs,Vs*au2eV, '-', color=\"black\")\n",
    "for i in range(n_ene):\n",
    "    plt.plot(rs, scale*wf[:,i]**2+energy[i]*au2eV, '-', color=c[i%len(c)])\n",
    "plt.ylim(energy[0]*au2eV-1, energy[n_ene-1]*au2eV+1)\n",
    "plt.xlabel('$r$ [Bohr]')\n",
    "plt.ylabel('$E$ [eV]')\n",
    "plt.show()"
   ]
  },
  {
   "cell_type": "code",
   "execution_count": 32,
   "metadata": {},
   "outputs": [
    {
     "data": {
      "text/plain": [
       "array([-0.0586289  -5.25656195j, -0.02464396 -3.35638671j,\n",
       "       -0.02436828 -7.66686727j,  0.02665461 -1.91931405j,\n",
       "        0.0377573  -0.29914998j,  0.05471593 -0.91311125j,\n",
       "        0.15257371-10.64207663j,  0.61492073-14.19015055j,\n",
       "        1.60407346-17.84363933j,  1.75699568 -0.19929499j])"
      ]
     },
     "execution_count": 32,
     "metadata": {},
     "output_type": "execute_result"
    }
   ],
   "source": [
    "\"\"\" complex diagonalization example \"\"\"\n",
    "\n",
    "theta=40.0/180.0*np.pi\n",
    "\n",
    "Vs = Jolanta_3D(rs*np.exp(1j*complex(theta)), a=0.1, b=1.2, c=0.1, l=1)\n",
    "H_theta = np.exp(-2j*complex(theta)) * Ts + np.diag(Vs)\n",
    "energies = eigvals(H_theta)\n",
    "energies.sort()\n",
    "energies[:10]*au2eV"
   ]
  },
  {
   "cell_type": "code",
   "execution_count": null,
   "metadata": {},
   "outputs": [],
   "source": [
    "#\n",
    "# above theta = 40 deg the lowest Re(E) are basis set \n",
    "# representation artifacts, and we should either not go there\n",
    "# or use a better filter for the states to keep\n",
    "#"
   ]
  },
  {
   "cell_type": "code",
   "execution_count": 33,
   "metadata": {},
   "outputs": [
    {
     "name": "stdout",
     "output_type": "stream",
     "text": [
      "1 2 3 4 5 6 7 8 9 10 \n",
      "11 12 13 14 15 16 17 18 19 20 \n",
      "21 22 23 24 25 26 27 28 29 30 \n",
      "31 32 33 34 35 36 37 38 39 40 \n",
      "41 42 43 44 45 46 47 48 49 50 \n",
      "51 52 53 54 55 56 57 58 59 60 \n",
      "61 62 63 64 65 66 67 68 69 70 \n",
      "71 72 73 74 75 76 77 78 79 80 \n",
      "81 "
     ]
    }
   ],
   "source": [
    "#\n",
    "#  complex scaling loop: \n",
    "#\n",
    "#  start on the real axis (theta=0) and rotate to theta = theta_max \n",
    "#\n",
    "#  we keep n_keep energies with the lowest real part \n",
    "#\n",
    "\n",
    "n_theta=81\n",
    "n_keep=16\n",
    "theta_min=0\n",
    "theta_max=40.0/180.0*np.pi\n",
    "\n",
    "thetas=np.linspace(theta_min, theta_max, n_theta, endpoint=True)\n",
    "run_data = np.zeros((n_theta,n_keep), complex)  # array used to collect all theta-run data\n",
    "\n",
    "for i_theta in range(n_theta):\n",
    "    theta=thetas[i_theta]\n",
    "    Vs = Jolanta_3D(rs*np.exp(1j*complex(theta)), a=0.1, b=1.2, c=0.1, l=1)\n",
    "    H_theta = np.exp(-2j*complex(theta)) * Ts + np.diag(Vs)\n",
    "    energies = eigvals(H_theta)\n",
    "    energies.sort()\n",
    "    run_data[i_theta,:] = energies[0:n_keep]\n",
    "    print(i_theta+1, end=\" \")\n",
    "    if (i_theta+1)%10==0:\n",
    "        print()\n",
    "\n",
    "run_data *= au2eV"
   ]
  },
  {
   "cell_type": "code",
   "execution_count": 35,
   "metadata": {},
   "outputs": [],
   "source": [
    "#run_data[:,12]"
   ]
  },
  {
   "cell_type": "code",
   "execution_count": 42,
   "metadata": {},
   "outputs": [],
   "source": [
    "#\n",
    "# useful piece of the complex plane \n",
    "# (if unknown, plot all and zoom with matplotlib)\n",
    "#\n",
    "for i in range(0, n_keep):\n",
    "    plt.plot(run_data[:,i].real,  run_data[:,i].imag, 'o', color='blue')\n",
    "plt.xlim(0,5)\n",
    "plt.ylim(-1,0)\n",
    "plt.show()"
   ]
  },
  {
   "cell_type": "code",
   "execution_count": 43,
   "metadata": {},
   "outputs": [],
   "source": [
    "#\n",
    "#  save n_save trajectories to file\n",
    "#  csv as real and imag \n",
    "#  (at the moment easier than csv with complex)\n",
    "#  also, include no header, because the energies need to be sorted\n",
    "#  into trajectories first\n",
    "#\n",
    "n_save=n_keep\n",
    "n_save = 12\n",
    "fname=\"complex_scaling_rmax.\"+str(int(rmax))+\"_ppB.\"+str(ppB)+\".csv\"\n",
    "tr = np.zeros((n_theta,2*n_save+1))\n",
    "tr[:,0]=thetas\n",
    "header=\"theta\"\n",
    "for i in range(n_save):\n",
    "    tr[:,2*i+1]=run_data[:,i].real\n",
    "    tr[:,2*i+2]=run_data[:,i].imag\n",
    "    header = header + ', ReE' + str(i+1) + ', ImE' + str(i+1)\n",
    "np.savetxt(fname, tr, fmt='%15.12f', delimiter=' ')"
   ]
  },
  {
   "cell_type": "code",
   "execution_count": null,
   "metadata": {},
   "outputs": [],
   "source": []
  }
 ],
 "metadata": {
  "kernelspec": {
   "display_name": "Python 3",
   "language": "python",
   "name": "python3"
  },
  "language_info": {
   "codemirror_mode": {
    "name": "ipython",
    "version": 3
   },
   "file_extension": ".py",
   "mimetype": "text/x-python",
   "name": "python",
   "nbconvert_exporter": "python",
   "pygments_lexer": "ipython3",
   "version": "3.6.8"
  }
 },
 "nbformat": 4,
 "nbformat_minor": 2
}
